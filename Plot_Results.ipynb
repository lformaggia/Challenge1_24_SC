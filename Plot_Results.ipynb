{
  "nbformat": 4,
  "nbformat_minor": 0,
  "metadata": {
    "colab": {
      "provenance": []
    },
    "kernelspec": {
      "name": "python3",
      "display_name": "Python 3"
    },
    "language_info": {
      "name": "python"
    }
  },
  "cells": [
    {
      "cell_type": "markdown",
      "source": [
        "Importing libraries\n",
        "\n"
      ],
      "metadata": {
        "id": "W9tWPK8RecG_"
      }
    },
    {
      "cell_type": "code",
      "execution_count": 2,
      "metadata": {
        "id": "ZXNwzNv-3sLh"
      },
      "outputs": [],
      "source": [
        "\n",
        "import numpy as np\n",
        "import matplotlib.pyplot as plt\n"
      ]
    },
    {
      "cell_type": "markdown",
      "source": [
        "Reading result from file and plot x_k,y_k,f(x_k,y_k)"
      ],
      "metadata": {
        "id": "k4iGlqo34ksO"
      }
    },
    {
      "cell_type": "code",
      "source": [
        "import matplotlib.pyplot as plt\n",
        "\n",
        "# Read data from file\n",
        "filename = 'test1.pot.dat'  #change this to the actual path of the file\n",
        "data = {'iteration': [], 'x_k': [], 'y_k': [], 'f_xy_k': []}\n",
        "\n",
        "with open(filename, 'r') as file:\n",
        "    next(file)  # Skip the header\n",
        "    for line in file:\n",
        "        iteration, x_k, y_k, f_xy_k = line.split()\n",
        "        data['iteration'].append(int(iteration))\n",
        "        data['x_k'].append(float(x_k))\n",
        "        data['y_k'].append(float(y_k))\n",
        "        data['f_xy_k'].append(float(f_xy_k))\n",
        "\n",
        "# Plotting\n",
        "plt.figure(figsize=(10, 6))\n",
        "plt.plot(data['iteration'], data['x_k'], label='x_k')\n",
        "plt.plot(data['iteration'], data['y_k'], label='y_k')\n",
        "plt.plot(data['iteration'], data['f_xy_k'], label='f(x_k, y_k)')\n",
        "plt.xlabel('Iterations')\n",
        "plt.ylabel('Values')\n",
        "plt.title('Convergence History')\n",
        "plt.legend()\n",
        "plt.grid(True)\n",
        "plt.show()\n"
      ],
      "metadata": {
        "id": "uFWnxKEi4Tf5"
      },
      "execution_count": null,
      "outputs": []
    },
    {
      "cell_type": "markdown",
      "source": [
        "Create F"
      ],
      "metadata": {
        "id": "zFb-u_kf6gjy"
      }
    },
    {
      "cell_type": "code",
      "source": [
        "x = np.linspace(-1, 1, 1000)\n",
        "y = np.linspace(-1, 1, 1000)\n",
        "[XX, YY] = np.meshgrid(x,y)\n",
        "F = XX*YY+4*(XX**4)+YY**2+3*XX\n"
      ],
      "metadata": {
        "id": "Q08Ij3FH6g6Q"
      },
      "execution_count": 4,
      "outputs": []
    },
    {
      "cell_type": "markdown",
      "source": [
        "Plot contour of f and convergence history"
      ],
      "metadata": {
        "id": "YmX5cOfUevVR"
      }
    },
    {
      "cell_type": "code",
      "source": [
        "plt.figure()\n",
        "plt.contourf(XX, YY, F, 20)\n",
        "plt.plot(data['x_k'],data['y_k'], 'y-x',)\n",
        "plt.show()"
      ],
      "metadata": {
        "id": "MPT0Vsve61BK"
      },
      "execution_count": null,
      "outputs": []
    }
  ]
}